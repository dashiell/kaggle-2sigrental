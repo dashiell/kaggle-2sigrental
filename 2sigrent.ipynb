{
 "cells": [
  {
   "cell_type": "markdown",
   "metadata": {},
   "source": [
    "This notebook is an attempt at the [Kaggle Two Sigma Connect Rental Listing Inquiries Competition](https://www.kaggle.com/c/two-sigma-connect-rental-listing-inquiries/data). "
   ]
  },
  {
   "cell_type": "code",
   "execution_count": 1,
   "metadata": {
    "collapsed": false
   },
   "outputs": [
    {
     "name": "stdout",
     "output_type": "stream",
     "text": [
      "Size in\n",
      "\ttraining:  34546 \n",
      "\tvalidation: 14806 \n",
      "\ttest: 74659\n"
     ]
    },
    {
     "name": "stderr",
     "output_type": "stream",
     "text": [
      "/opt/conda/lib/python3.6/site-packages/pandas/core/indexing.py:141: SettingWithCopyWarning: \n",
      "A value is trying to be set on a copy of a slice from a DataFrame\n",
      "\n",
      "See the caveats in the documentation: http://pandas.pydata.org/pandas-docs/stable/indexing.html#indexing-view-versus-copy\n",
      "  self._setitem_with_indexer(indexer, value)\n"
     ]
    }
   ],
   "source": [
    "import pandas as pd\n",
    "import numpy as np\n",
    "from sklearn.ensemble import RandomForestClassifier\n",
    "from sklearn.ensemble import GradientBoostingClassifier\n",
    "\n",
    "from sklearn.metrics import log_loss\n",
    "from sklearn.model_selection import train_test_split\n",
    "from sklearn.model_selection import cross_val_predict\n",
    "\n",
    "train_df = pd.read_json('train.json', orient='columns')\n",
    "\n",
    "y_cols_map = {'high':0, 'medium':1, 'low':2 }\n",
    "train_y = np.array(train_df['interest_level'].apply(lambda x: y_cols_map[x]))\n",
    "train_df[\"interest_level\"] = train_y\n",
    "\n",
    "test_df = pd.read_json('test.json', orient='columns')\n",
    "\n",
    "# merge the training and test set\n",
    "merged_df = train_df.append(test_df)\n",
    "\n",
    "# feature creation\n",
    "merged_df[\"num_pics\"] = merged_df[\"photos\"].apply(len)\n",
    "merged_df[\"created\"] = pd.to_datetime(merged_df[\"created\"])\n",
    "merged_df[\"c_year\"] = merged_df[\"created\"].dt.year\n",
    "merged_df[\"c_month\"] = merged_df[\"created\"].dt.month\n",
    "merged_df[\"c_day\"] = merged_df[\"created\"].dt.day\n",
    "merged_df[\"c_hour\"] = merged_df[\"created\"].dt.hour\n",
    "merged_df[\"descr_word_count\"] = merged_df[\"description\"].apply(lambda x: len(x.split(\" \")))\n",
    "merged_df[\"has_email\"] = 0\n",
    "merged_df[\"has_email\"].ix[merged_df['description'].str.contains('@')] = 1 #throws a warning (ignore)\n",
    "merged_df[\"features_count\"] = merged_df[\"features\"].apply(len)\n",
    "\n",
    "trainSize = len(train_df)\n",
    "train_df = merged_df[:trainSize]\n",
    "test_df = merged_df[trainSize:]\n",
    "\n",
    "# the features we are using to train on (numerical only)\n",
    "features = ['bathrooms', 'bedrooms', 'latitude', 'longitude', 'num_pics', 'c_year', 'c_month', 'c_day', \n",
    "            'c_hour', 'descr_word_count', 'has_email', 'features_count', 'price']\n",
    "\n",
    "\n",
    "# split the training dataset to a new training and vaidation set\n",
    "X_train, X_valid, y_train, y_valid = train_test_split(train_df[features], train_df['interest_level'], test_size=0.3)\n",
    "\n",
    "print(\"Size in\\n\\ttraining: \", len(X_train), \"\\n\\tvalidation:\", len(X_valid), \"\\n\\ttest:\", len(test_df))"
   ]
  },
  {
   "cell_type": "markdown",
   "metadata": {},
   "source": [
    "Train a Random Forest"
   ]
  },
  {
   "cell_type": "code",
   "execution_count": 2,
   "metadata": {
    "collapsed": false
   },
   "outputs": [
    {
     "name": "stdout",
     "output_type": "stream",
     "text": [
      "RF log loss - validation set: 0.65145517519\n"
     ]
    }
   ],
   "source": [
    "# Train and calculate log loss on validation set\n",
    "rf = RandomForestClassifier(n_estimators=1000,max_depth=10)\n",
    "fitted_rf = rf.fit(X=X_train, y=y_train)\n",
    "y_pred = rf.predict_proba(X_valid)\n",
    "\n",
    "lloss = log_loss(y_valid, y_pred)\n",
    "print(\"RF log loss - validation set:\", lloss)\n",
    "\n",
    "# predict on the test data set\n",
    "rf_predicted_test_y = rf.predict_proba(test_df[features])"
   ]
  },
  {
   "cell_type": "markdown",
   "metadata": {},
   "source": [
    "Take a look at the importance of the features included"
   ]
  },
  {
   "cell_type": "code",
   "execution_count": 3,
   "metadata": {
    "collapsed": false,
    "scrolled": true
   },
   "outputs": [
    {
     "name": "stdout",
     "output_type": "stream",
     "text": [
      "[ 0.02840119  0.07594586  0.0864459   0.08233904  0.08740579  0.\n",
      "  0.01113442  0.03504028  0.14815469  0.07245668  0.02757399  0.05771863\n",
      "  0.28738352]\n"
     ]
    },
    {
     "data": {
      "image/png": "[encoded data removed]",
      "text/plain": [
       "<matplotlib.figure.Figure at 0x7fc961f38278>"
      ]
     },
     "metadata": {},
     "output_type": "display_data"
    }
   ],
   "source": [
    "pd.Series(index=features,data=rf.feature_importances_).sort_values().plot(kind='bar')\n",
    "\n",
    "print(rf.feature_importances_)\n"
   ]
  },
  {
   "cell_type": "markdown",
   "metadata": {},
   "source": [
    "Train a Gradient Boosting Model"
   ]
  },
  {
   "cell_type": "code",
   "execution_count": 4,
   "metadata": {
    "collapsed": false
   },
   "outputs": [
    {
     "name": "stdout",
     "output_type": "stream",
     "text": [
      "GBM log loss - validation set: 0.63027941252\n"
     ]
    }
   ],
   "source": [
    "gbm = GradientBoostingClassifier()\n",
    "gbm.fit(X_train, y_train)\n",
    "y_pred = gbm.predict_proba(X_valid)\n",
    "\n",
    "lloss = log_loss(y_valid, y_pred)\n",
    "print(\"GBM log loss - validation set:\", lloss)\n",
    "\n",
    "gbm_predicted_test_y = gbm.predict_proba(test_df[features])"
   ]
  },
  {
   "cell_type": "markdown",
   "metadata": {},
   "source": [
    "Take the average predictions of each model for the final prediction"
   ]
  },
  {
   "cell_type": "code",
   "execution_count": 5,
   "metadata": {
    "collapsed": false
   },
   "outputs": [],
   "source": [
    "mean_y = (rf_predicted_test_y + gbm_predicted_test_y) / 2"
   ]
  },
  {
   "cell_type": "markdown",
   "metadata": {},
   "source": [
    "Create the submission CSV"
   ]
  },
  {
   "cell_type": "code",
   "execution_count": 6,
   "metadata": {
    "collapsed": false
   },
   "outputs": [],
   "source": [
    "# create the dataframe in the contest required format and save as csv\n",
    "submit_df = pd.DataFrame()\n",
    "submit_df[\"listing_id\"] = test_df['listing_id']\n",
    "\n",
    "for label in ['high','medium','low']:\n",
    "    submit_df[label] = mean_y[:, y_cols_map[label]]\n",
    "\n",
    "submit_df.to_csv(\"submission.csv\", index=False)"
   ]
  }
 ],
 "metadata": {
  "kernelspec": {
   "display_name": "Python 3",
   "language": "python",
   "name": "python3"
  },
  "language_info": {
   "codemirror_mode": {
    "name": "ipython",
    "version": 3
   },
   "file_extension": ".py",
   "mimetype": "text/x-python",
   "name": "python",
   "nbconvert_exporter": "python",
   "pygments_lexer": "ipython3",
   "version": "3.6.0"
  }
 },
 "nbformat": 4,
 "nbformat_minor": 2
}
